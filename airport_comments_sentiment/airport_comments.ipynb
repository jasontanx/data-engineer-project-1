{
  "nbformat": 4,
  "nbformat_minor": 0,
  "metadata": {
    "colab": {
      "provenance": []
    },
    "kernelspec": {
      "name": "python3",
      "display_name": "Python 3"
    },
    "language_info": {
      "name": "python"
    }
  },
  "cells": [
    {
      "cell_type": "code",
      "execution_count": 17,
      "metadata": {
        "colab": {
          "base_uri": "https://localhost:8080/"
        },
        "id": "bf45oOF7TbjN",
        "outputId": "014bc203-6a06-4619-daad-be884884eed2"
      },
      "outputs": [
        {
          "output_type": "stream",
          "name": "stdout",
          "text": [
            "File downloaded successfully.\n",
            "       id   \"threadRef\"   \"airportRef\"  \"airportIdent\"               \"date\"  \\\n",
            "0  509553       82125.0           3794            KPUB  2023-06-14 18:02:30   \n",
            "1  509510       82124.0          20236            KK02  2023-06-11 08:37:03   \n",
            "2  509509       82123.0          20355            KLLU  2023-06-11 08:31:30   \n",
            "3  509508       82122.0         509507         AU-0610  2023-06-11 07:29:52   \n",
            "4  509505       82121.0         509504         AU-0609  2023-06-11 06:25:33   \n",
            "\n",
            "   \"memberNickname\"                        \"subject\"  \\\n",
            "0           adeshpa     Busy military training field   \n",
            "1           AlanM70                     Nice airport   \n",
            "2           AlanM70  Nice Facility with Courtesy Car   \n",
            "3            adidas             MISSING FROM WEBSITE   \n",
            "4            adidas             MISSING FROM WEBSITE   \n",
            "\n",
            "                                              \"body\"  \n",
            "0  Clean and nice FBO (Freeman) with a little res...  \n",
            "1  FBO was open Operator was friendly and helpful...  \n",
            "2  Nice unmanned FBO with showers if needed and a...  \n",
            "3                               MISSING FROM WEBSITE  \n",
            "4                               MISSING FROM WEBSITE  \n"
          ]
        }
      ],
      "source": [
        "import requests\n",
        "import pandas as pd\n",
        "\n",
        "# URL of the CSV file\n",
        "url = 'https://davidmegginson.github.io/ourairports-data/airport-comments.csv'\n",
        "\n",
        "# Send a GET request to the URL and download the file\n",
        "response = requests.get(url)\n",
        "\n",
        "# Check if the request was successful\n",
        "if response.status_code == 200:\n",
        "    # Save the downloaded file\n",
        "    with open('airport-comments.csv', 'wb') as file:\n",
        "        file.write(response.content)\n",
        "    print(\"File downloaded successfully.\")\n",
        "\n",
        "    # Read the downloaded CSV file into a DataFrame\n",
        "    df = pd.read_csv('airport-comments.csv')\n",
        "\n",
        "    # Now you can perform any data manipulations or analysis on the DataFrame\n",
        "    # For example, print the first few rows\n",
        "    print(df.head())\n",
        "else:\n",
        "    print(\"Failed to download the file.\")"
      ]
    },
    {
      "cell_type": "code",
      "source": [
        "df.shape"
      ],
      "metadata": {
        "colab": {
          "base_uri": "https://localhost:8080/"
        },
        "id": "pnBc7GhaUjAv",
        "outputId": "c3240ad1-aba8-43fe-8aaa-4d1bd6f13ae5"
      },
      "execution_count": 2,
      "outputs": [
        {
          "output_type": "execute_result",
          "data": {
            "text/plain": [
              "(15193, 8)"
            ]
          },
          "metadata": {},
          "execution_count": 2
        }
      ]
    },
    {
      "cell_type": "code",
      "source": [
        "df.head()"
      ],
      "metadata": {
        "colab": {
          "base_uri": "https://localhost:8080/",
          "height": 206
        },
        "id": "SbHhvFZoZGD6",
        "outputId": "9056b49d-c22a-42f6-94ea-7110098faf72"
      },
      "execution_count": 3,
      "outputs": [
        {
          "output_type": "execute_result",
          "data": {
            "text/plain": [
              "       id   \"threadRef\"   \"airportRef\"  \"airportIdent\"               \"date\"  \\\n",
              "0  509553       82125.0           3794            KPUB  2023-06-14 18:02:30   \n",
              "1  509510       82124.0          20236            KK02  2023-06-11 08:37:03   \n",
              "2  509509       82123.0          20355            KLLU  2023-06-11 08:31:30   \n",
              "3  509508       82122.0         509507         AU-0610  2023-06-11 07:29:52   \n",
              "4  509505       82121.0         509504         AU-0609  2023-06-11 06:25:33   \n",
              "\n",
              "   \"memberNickname\"                        \"subject\"  \\\n",
              "0           adeshpa     Busy military training field   \n",
              "1           AlanM70                     Nice airport   \n",
              "2           AlanM70  Nice Facility with Courtesy Car   \n",
              "3            adidas             MISSING FROM WEBSITE   \n",
              "4            adidas             MISSING FROM WEBSITE   \n",
              "\n",
              "                                              \"body\"  \n",
              "0  Clean and nice FBO (Freeman) with a little res...  \n",
              "1  FBO was open Operator was friendly and helpful...  \n",
              "2  Nice unmanned FBO with showers if needed and a...  \n",
              "3                               MISSING FROM WEBSITE  \n",
              "4                               MISSING FROM WEBSITE  "
            ],
            "text/html": [
              "\n",
              "  <div id=\"df-47c595af-45bc-4b22-9e82-3d014cdd630f\">\n",
              "    <div class=\"colab-df-container\">\n",
              "      <div>\n",
              "<style scoped>\n",
              "    .dataframe tbody tr th:only-of-type {\n",
              "        vertical-align: middle;\n",
              "    }\n",
              "\n",
              "    .dataframe tbody tr th {\n",
              "        vertical-align: top;\n",
              "    }\n",
              "\n",
              "    .dataframe thead th {\n",
              "        text-align: right;\n",
              "    }\n",
              "</style>\n",
              "<table border=\"1\" class=\"dataframe\">\n",
              "  <thead>\n",
              "    <tr style=\"text-align: right;\">\n",
              "      <th></th>\n",
              "      <th>id</th>\n",
              "      <th>\"threadRef\"</th>\n",
              "      <th>\"airportRef\"</th>\n",
              "      <th>\"airportIdent\"</th>\n",
              "      <th>\"date\"</th>\n",
              "      <th>\"memberNickname\"</th>\n",
              "      <th>\"subject\"</th>\n",
              "      <th>\"body\"</th>\n",
              "    </tr>\n",
              "  </thead>\n",
              "  <tbody>\n",
              "    <tr>\n",
              "      <th>0</th>\n",
              "      <td>509553</td>\n",
              "      <td>82125.0</td>\n",
              "      <td>3794</td>\n",
              "      <td>KPUB</td>\n",
              "      <td>2023-06-14 18:02:30</td>\n",
              "      <td>adeshpa</td>\n",
              "      <td>Busy military training field</td>\n",
              "      <td>Clean and nice FBO (Freeman) with a little res...</td>\n",
              "    </tr>\n",
              "    <tr>\n",
              "      <th>1</th>\n",
              "      <td>509510</td>\n",
              "      <td>82124.0</td>\n",
              "      <td>20236</td>\n",
              "      <td>KK02</td>\n",
              "      <td>2023-06-11 08:37:03</td>\n",
              "      <td>AlanM70</td>\n",
              "      <td>Nice airport</td>\n",
              "      <td>FBO was open Operator was friendly and helpful...</td>\n",
              "    </tr>\n",
              "    <tr>\n",
              "      <th>2</th>\n",
              "      <td>509509</td>\n",
              "      <td>82123.0</td>\n",
              "      <td>20355</td>\n",
              "      <td>KLLU</td>\n",
              "      <td>2023-06-11 08:31:30</td>\n",
              "      <td>AlanM70</td>\n",
              "      <td>Nice Facility with Courtesy Car</td>\n",
              "      <td>Nice unmanned FBO with showers if needed and a...</td>\n",
              "    </tr>\n",
              "    <tr>\n",
              "      <th>3</th>\n",
              "      <td>509508</td>\n",
              "      <td>82122.0</td>\n",
              "      <td>509507</td>\n",
              "      <td>AU-0610</td>\n",
              "      <td>2023-06-11 07:29:52</td>\n",
              "      <td>adidas</td>\n",
              "      <td>MISSING FROM WEBSITE</td>\n",
              "      <td>MISSING FROM WEBSITE</td>\n",
              "    </tr>\n",
              "    <tr>\n",
              "      <th>4</th>\n",
              "      <td>509505</td>\n",
              "      <td>82121.0</td>\n",
              "      <td>509504</td>\n",
              "      <td>AU-0609</td>\n",
              "      <td>2023-06-11 06:25:33</td>\n",
              "      <td>adidas</td>\n",
              "      <td>MISSING FROM WEBSITE</td>\n",
              "      <td>MISSING FROM WEBSITE</td>\n",
              "    </tr>\n",
              "  </tbody>\n",
              "</table>\n",
              "</div>\n",
              "      <button class=\"colab-df-convert\" onclick=\"convertToInteractive('df-47c595af-45bc-4b22-9e82-3d014cdd630f')\"\n",
              "              title=\"Convert this dataframe to an interactive table.\"\n",
              "              style=\"display:none;\">\n",
              "        \n",
              "  <svg xmlns=\"http://www.w3.org/2000/svg\" height=\"24px\"viewBox=\"0 0 24 24\"\n",
              "       width=\"24px\">\n",
              "    <path d=\"M0 0h24v24H0V0z\" fill=\"none\"/>\n",
              "    <path d=\"M18.56 5.44l.94 2.06.94-2.06 2.06-.94-2.06-.94-.94-2.06-.94 2.06-2.06.94zm-11 1L8.5 8.5l.94-2.06 2.06-.94-2.06-.94L8.5 2.5l-.94 2.06-2.06.94zm10 10l.94 2.06.94-2.06 2.06-.94-2.06-.94-.94-2.06-.94 2.06-2.06.94z\"/><path d=\"M17.41 7.96l-1.37-1.37c-.4-.4-.92-.59-1.43-.59-.52 0-1.04.2-1.43.59L10.3 9.45l-7.72 7.72c-.78.78-.78 2.05 0 2.83L4 21.41c.39.39.9.59 1.41.59.51 0 1.02-.2 1.41-.59l7.78-7.78 2.81-2.81c.8-.78.8-2.07 0-2.86zM5.41 20L4 18.59l7.72-7.72 1.47 1.35L5.41 20z\"/>\n",
              "  </svg>\n",
              "      </button>\n",
              "      \n",
              "  <style>\n",
              "    .colab-df-container {\n",
              "      display:flex;\n",
              "      flex-wrap:wrap;\n",
              "      gap: 12px;\n",
              "    }\n",
              "\n",
              "    .colab-df-convert {\n",
              "      background-color: #E8F0FE;\n",
              "      border: none;\n",
              "      border-radius: 50%;\n",
              "      cursor: pointer;\n",
              "      display: none;\n",
              "      fill: #1967D2;\n",
              "      height: 32px;\n",
              "      padding: 0 0 0 0;\n",
              "      width: 32px;\n",
              "    }\n",
              "\n",
              "    .colab-df-convert:hover {\n",
              "      background-color: #E2EBFA;\n",
              "      box-shadow: 0px 1px 2px rgba(60, 64, 67, 0.3), 0px 1px 3px 1px rgba(60, 64, 67, 0.15);\n",
              "      fill: #174EA6;\n",
              "    }\n",
              "\n",
              "    [theme=dark] .colab-df-convert {\n",
              "      background-color: #3B4455;\n",
              "      fill: #D2E3FC;\n",
              "    }\n",
              "\n",
              "    [theme=dark] .colab-df-convert:hover {\n",
              "      background-color: #434B5C;\n",
              "      box-shadow: 0px 1px 3px 1px rgba(0, 0, 0, 0.15);\n",
              "      filter: drop-shadow(0px 1px 2px rgba(0, 0, 0, 0.3));\n",
              "      fill: #FFFFFF;\n",
              "    }\n",
              "  </style>\n",
              "\n",
              "      <script>\n",
              "        const buttonEl =\n",
              "          document.querySelector('#df-47c595af-45bc-4b22-9e82-3d014cdd630f button.colab-df-convert');\n",
              "        buttonEl.style.display =\n",
              "          google.colab.kernel.accessAllowed ? 'block' : 'none';\n",
              "\n",
              "        async function convertToInteractive(key) {\n",
              "          const element = document.querySelector('#df-47c595af-45bc-4b22-9e82-3d014cdd630f');\n",
              "          const dataTable =\n",
              "            await google.colab.kernel.invokeFunction('convertToInteractive',\n",
              "                                                     [key], {});\n",
              "          if (!dataTable) return;\n",
              "\n",
              "          const docLinkHtml = 'Like what you see? Visit the ' +\n",
              "            '<a target=\"_blank\" href=https://colab.research.google.com/notebooks/data_table.ipynb>data table notebook</a>'\n",
              "            + ' to learn more about interactive tables.';\n",
              "          element.innerHTML = '';\n",
              "          dataTable['output_type'] = 'display_data';\n",
              "          await google.colab.output.renderOutput(dataTable, element);\n",
              "          const docLink = document.createElement('div');\n",
              "          docLink.innerHTML = docLinkHtml;\n",
              "          element.appendChild(docLink);\n",
              "        }\n",
              "      </script>\n",
              "    </div>\n",
              "  </div>\n",
              "  "
            ]
          },
          "metadata": {},
          "execution_count": 3
        }
      ]
    },
    {
      "cell_type": "code",
      "source": [
        "df.info()"
      ],
      "metadata": {
        "colab": {
          "base_uri": "https://localhost:8080/"
        },
        "id": "ZbXZQ6jLcrgU",
        "outputId": "7fbf3f7b-d11b-4015-8779-7df163cdaf43"
      },
      "execution_count": 7,
      "outputs": [
        {
          "output_type": "stream",
          "name": "stdout",
          "text": [
            "<class 'pandas.core.frame.DataFrame'>\n",
            "RangeIndex: 15193 entries, 0 to 15192\n",
            "Data columns (total 8 columns):\n",
            " #   Column             Non-Null Count  Dtype  \n",
            "---  ------             --------------  -----  \n",
            " 0   id                 15193 non-null  int64  \n",
            " 1    \"threadRef\"       15122 non-null  float64\n",
            " 2    \"airportRef\"      15193 non-null  int64  \n",
            " 3    \"airportIdent\"    15193 non-null  object \n",
            " 4    \"date\"            15193 non-null  object \n",
            " 5    \"memberNickname\"  6908 non-null   object \n",
            " 6    \"subject\"         15191 non-null  object \n",
            " 7    \"body\"            15191 non-null  object \n",
            "dtypes: float64(1), int64(2), object(5)\n",
            "memory usage: 949.7+ KB\n"
          ]
        }
      ]
    },
    {
      "cell_type": "code",
      "source": [
        "df.columns"
      ],
      "metadata": {
        "colab": {
          "base_uri": "https://localhost:8080/"
        },
        "id": "y_f7OtW4echC",
        "outputId": "d80d1a0e-aef8-4e4b-eca5-bd7806bce1aa"
      },
      "execution_count": 18,
      "outputs": [
        {
          "output_type": "execute_result",
          "data": {
            "text/plain": [
              "Index(['id', ' \"threadRef\"', ' \"airportRef\"', ' \"airportIdent\"', ' \"date\"',\n",
              "       ' \"memberNickname\"', ' \"subject\"', ' \"body\"'],\n",
              "      dtype='object')"
            ]
          },
          "metadata": {},
          "execution_count": 18
        }
      ]
    },
    {
      "cell_type": "code",
      "source": [
        "df = df.rename(columns={' \"memberNickname\"': \"member_nickname\"})\n",
        "df = df.rename(columns={' \"airportIdent\"': \"airport_ident\"})\n",
        "df = df.rename(columns={' \"subject\"': \"subject\"})\n",
        "df = df.rename(columns={' \"body\"': \"body\"})"
      ],
      "metadata": {
        "id": "Qeh7K2LHfQxS"
      },
      "execution_count": 19,
      "outputs": []
    },
    {
      "cell_type": "code",
      "source": [
        "# drop vaariables that are not useful\n",
        "\n",
        "df = df.drop(\"member_nickname\", axis=1)\n",
        "df = df.drop(\"id\", axis=1)"
      ],
      "metadata": {
        "id": "NfK_K8_eesmT"
      },
      "execution_count": 20,
      "outputs": []
    },
    {
      "cell_type": "code",
      "source": [
        "df.columns"
      ],
      "metadata": {
        "colab": {
          "base_uri": "https://localhost:8080/"
        },
        "id": "qQMWSne4f2Gj",
        "outputId": "99d381dd-27c2-41a6-ad02-a3e7a5029cdd"
      },
      "execution_count": 21,
      "outputs": [
        {
          "output_type": "execute_result",
          "data": {
            "text/plain": [
              "Index([' \"threadRef\"', ' \"airportRef\"', 'airport_ident', ' \"date\"', 'subject',\n",
              "       'body'],\n",
              "      dtype='object')"
            ]
          },
          "metadata": {},
          "execution_count": 21
        }
      ]
    },
    {
      "cell_type": "code",
      "source": [
        "df.head(3)"
      ],
      "metadata": {
        "colab": {
          "base_uri": "https://localhost:8080/",
          "height": 143
        },
        "id": "stzPrfl5f8d6",
        "outputId": "a74e6d5f-8d54-4e57-a705-420abf03626c"
      },
      "execution_count": 22,
      "outputs": [
        {
          "output_type": "execute_result",
          "data": {
            "text/plain": [
              "    \"threadRef\"   \"airportRef\" airport_ident               \"date\"  \\\n",
              "0       82125.0           3794          KPUB  2023-06-14 18:02:30   \n",
              "1       82124.0          20236          KK02  2023-06-11 08:37:03   \n",
              "2       82123.0          20355          KLLU  2023-06-11 08:31:30   \n",
              "\n",
              "                           subject  \\\n",
              "0     Busy military training field   \n",
              "1                     Nice airport   \n",
              "2  Nice Facility with Courtesy Car   \n",
              "\n",
              "                                                body  \n",
              "0  Clean and nice FBO (Freeman) with a little res...  \n",
              "1  FBO was open Operator was friendly and helpful...  \n",
              "2  Nice unmanned FBO with showers if needed and a...  "
            ],
            "text/html": [
              "\n",
              "  <div id=\"df-ca69d81c-0a99-4750-880f-c366453006aa\">\n",
              "    <div class=\"colab-df-container\">\n",
              "      <div>\n",
              "<style scoped>\n",
              "    .dataframe tbody tr th:only-of-type {\n",
              "        vertical-align: middle;\n",
              "    }\n",
              "\n",
              "    .dataframe tbody tr th {\n",
              "        vertical-align: top;\n",
              "    }\n",
              "\n",
              "    .dataframe thead th {\n",
              "        text-align: right;\n",
              "    }\n",
              "</style>\n",
              "<table border=\"1\" class=\"dataframe\">\n",
              "  <thead>\n",
              "    <tr style=\"text-align: right;\">\n",
              "      <th></th>\n",
              "      <th>\"threadRef\"</th>\n",
              "      <th>\"airportRef\"</th>\n",
              "      <th>airport_ident</th>\n",
              "      <th>\"date\"</th>\n",
              "      <th>subject</th>\n",
              "      <th>body</th>\n",
              "    </tr>\n",
              "  </thead>\n",
              "  <tbody>\n",
              "    <tr>\n",
              "      <th>0</th>\n",
              "      <td>82125.0</td>\n",
              "      <td>3794</td>\n",
              "      <td>KPUB</td>\n",
              "      <td>2023-06-14 18:02:30</td>\n",
              "      <td>Busy military training field</td>\n",
              "      <td>Clean and nice FBO (Freeman) with a little res...</td>\n",
              "    </tr>\n",
              "    <tr>\n",
              "      <th>1</th>\n",
              "      <td>82124.0</td>\n",
              "      <td>20236</td>\n",
              "      <td>KK02</td>\n",
              "      <td>2023-06-11 08:37:03</td>\n",
              "      <td>Nice airport</td>\n",
              "      <td>FBO was open Operator was friendly and helpful...</td>\n",
              "    </tr>\n",
              "    <tr>\n",
              "      <th>2</th>\n",
              "      <td>82123.0</td>\n",
              "      <td>20355</td>\n",
              "      <td>KLLU</td>\n",
              "      <td>2023-06-11 08:31:30</td>\n",
              "      <td>Nice Facility with Courtesy Car</td>\n",
              "      <td>Nice unmanned FBO with showers if needed and a...</td>\n",
              "    </tr>\n",
              "  </tbody>\n",
              "</table>\n",
              "</div>\n",
              "      <button class=\"colab-df-convert\" onclick=\"convertToInteractive('df-ca69d81c-0a99-4750-880f-c366453006aa')\"\n",
              "              title=\"Convert this dataframe to an interactive table.\"\n",
              "              style=\"display:none;\">\n",
              "        \n",
              "  <svg xmlns=\"http://www.w3.org/2000/svg\" height=\"24px\"viewBox=\"0 0 24 24\"\n",
              "       width=\"24px\">\n",
              "    <path d=\"M0 0h24v24H0V0z\" fill=\"none\"/>\n",
              "    <path d=\"M18.56 5.44l.94 2.06.94-2.06 2.06-.94-2.06-.94-.94-2.06-.94 2.06-2.06.94zm-11 1L8.5 8.5l.94-2.06 2.06-.94-2.06-.94L8.5 2.5l-.94 2.06-2.06.94zm10 10l.94 2.06.94-2.06 2.06-.94-2.06-.94-.94-2.06-.94 2.06-2.06.94z\"/><path d=\"M17.41 7.96l-1.37-1.37c-.4-.4-.92-.59-1.43-.59-.52 0-1.04.2-1.43.59L10.3 9.45l-7.72 7.72c-.78.78-.78 2.05 0 2.83L4 21.41c.39.39.9.59 1.41.59.51 0 1.02-.2 1.41-.59l7.78-7.78 2.81-2.81c.8-.78.8-2.07 0-2.86zM5.41 20L4 18.59l7.72-7.72 1.47 1.35L5.41 20z\"/>\n",
              "  </svg>\n",
              "      </button>\n",
              "      \n",
              "  <style>\n",
              "    .colab-df-container {\n",
              "      display:flex;\n",
              "      flex-wrap:wrap;\n",
              "      gap: 12px;\n",
              "    }\n",
              "\n",
              "    .colab-df-convert {\n",
              "      background-color: #E8F0FE;\n",
              "      border: none;\n",
              "      border-radius: 50%;\n",
              "      cursor: pointer;\n",
              "      display: none;\n",
              "      fill: #1967D2;\n",
              "      height: 32px;\n",
              "      padding: 0 0 0 0;\n",
              "      width: 32px;\n",
              "    }\n",
              "\n",
              "    .colab-df-convert:hover {\n",
              "      background-color: #E2EBFA;\n",
              "      box-shadow: 0px 1px 2px rgba(60, 64, 67, 0.3), 0px 1px 3px 1px rgba(60, 64, 67, 0.15);\n",
              "      fill: #174EA6;\n",
              "    }\n",
              "\n",
              "    [theme=dark] .colab-df-convert {\n",
              "      background-color: #3B4455;\n",
              "      fill: #D2E3FC;\n",
              "    }\n",
              "\n",
              "    [theme=dark] .colab-df-convert:hover {\n",
              "      background-color: #434B5C;\n",
              "      box-shadow: 0px 1px 3px 1px rgba(0, 0, 0, 0.15);\n",
              "      filter: drop-shadow(0px 1px 2px rgba(0, 0, 0, 0.3));\n",
              "      fill: #FFFFFF;\n",
              "    }\n",
              "  </style>\n",
              "\n",
              "      <script>\n",
              "        const buttonEl =\n",
              "          document.querySelector('#df-ca69d81c-0a99-4750-880f-c366453006aa button.colab-df-convert');\n",
              "        buttonEl.style.display =\n",
              "          google.colab.kernel.accessAllowed ? 'block' : 'none';\n",
              "\n",
              "        async function convertToInteractive(key) {\n",
              "          const element = document.querySelector('#df-ca69d81c-0a99-4750-880f-c366453006aa');\n",
              "          const dataTable =\n",
              "            await google.colab.kernel.invokeFunction('convertToInteractive',\n",
              "                                                     [key], {});\n",
              "          if (!dataTable) return;\n",
              "\n",
              "          const docLinkHtml = 'Like what you see? Visit the ' +\n",
              "            '<a target=\"_blank\" href=https://colab.research.google.com/notebooks/data_table.ipynb>data table notebook</a>'\n",
              "            + ' to learn more about interactive tables.';\n",
              "          element.innerHTML = '';\n",
              "          dataTable['output_type'] = 'display_data';\n",
              "          await google.colab.output.renderOutput(dataTable, element);\n",
              "          const docLink = document.createElement('div');\n",
              "          docLink.innerHTML = docLinkHtml;\n",
              "          element.appendChild(docLink);\n",
              "        }\n",
              "      </script>\n",
              "    </div>\n",
              "  </div>\n",
              "  "
            ]
          },
          "metadata": {},
          "execution_count": 22
        }
      ]
    },
    {
      "cell_type": "code",
      "source": [
        "# Get the number of unique values in variable_2.\n",
        "number_of_categories = df[\"airport_ident\"].nunique()\n",
        "\n",
        "# Print the number of categories to the console.\n",
        "print(f\"There are {number_of_categories} categories in airportIdent.\")"
      ],
      "metadata": {
        "colab": {
          "base_uri": "https://localhost:8080/"
        },
        "id": "Fp7stn4JeB4h",
        "outputId": "96ad414e-dcc0-4124-aa49-e64bd17d0987"
      },
      "execution_count": 23,
      "outputs": [
        {
          "output_type": "stream",
          "name": "stdout",
          "text": [
            "There are 6392 categories in airportIdent.\n"
          ]
        }
      ]
    }
  ]
}
